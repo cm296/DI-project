{
 "cells": [
  {
   "cell_type": "code",
   "execution_count": null,
   "id": "square-zealand",
   "metadata": {},
   "outputs": [],
   "source": [
    "import Part1 as p"
   ]
  },
  {
   "cell_type": "code",
   "execution_count": null,
   "id": "responsible-independence",
   "metadata": {},
   "outputs": [],
   "source": [
    "result, ypred = p.wrap_asset2()"
   ]
  }
 ],
 "metadata": {
  "kernelspec": {
   "display_name": "Python 3",
   "language": "python",
   "name": "python3"
  },
  "language_info": {
   "codemirror_mode": {
    "name": "ipython",
    "version": 3
   },
   "file_extension": ".py",
   "mimetype": "text/x-python",
   "name": "python",
   "nbconvert_exporter": "python",
   "pygments_lexer": "ipython3",
   "version": "3.7.10"
  }
 },
 "nbformat": 4,
 "nbformat_minor": 5
}
